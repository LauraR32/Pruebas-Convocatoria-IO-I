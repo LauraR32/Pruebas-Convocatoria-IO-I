{
  "nbformat": 4,
  "nbformat_minor": 0,
  "metadata": {
    "colab": {
      "provenance": [],
      "include_colab_link": true
    },
    "kernelspec": {
      "name": "python3",
      "display_name": "Python 3"
    },
    "language_info": {
      "name": "python"
    }
  },
  "cells": [
    {
      "cell_type": "markdown",
      "metadata": {
        "id": "view-in-github",
        "colab_type": "text"
      },
      "source": [
        "<a href=\"https://colab.research.google.com/github/LauraR32/Pruebas-Convocatoria-IO-I/blob/main/Estructura_de_soluci%C3%B3n.ipynb\" target=\"_parent\"><img src=\"https://colab.research.google.com/assets/colab-badge.svg\" alt=\"Open In Colab\"/></a>"
      ]
    },
    {
      "cell_type": "markdown",
      "source": [
        "PASO 1: INSTALAR LA LIBRERIA\n"
      ],
      "metadata": {
        "id": "ScwOY5IkUCOn"
      }
    },
    {
      "cell_type": "code",
      "execution_count": null,
      "metadata": {
        "colab": {
          "base_uri": "https://localhost:8080/"
        },
        "id": "qbBXfFhYTwgp",
        "outputId": "d9776cf3-70ad-44e5-ef81-d651adcc496c"
      },
      "outputs": [
        {
          "output_type": "stream",
          "name": "stdout",
          "text": [
            "Looking in indexes: https://pypi.org/simple, https://us-python.pkg.dev/colab-wheels/public/simple/\n",
            "Requirement already satisfied: cvxpy in /usr/local/lib/python3.8/dist-packages (1.2.3)\n",
            "Requirement already satisfied: ecos>=2 in /usr/local/lib/python3.8/dist-packages (from cvxpy) (2.0.12)\n",
            "Requirement already satisfied: osqp>=0.4.1 in /usr/local/lib/python3.8/dist-packages (from cvxpy) (0.6.2.post0)\n",
            "Requirement already satisfied: setuptools<=64.0.2 in /usr/local/lib/python3.8/dist-packages (from cvxpy) (57.4.0)\n",
            "Requirement already satisfied: scs>=1.1.6 in /usr/local/lib/python3.8/dist-packages (from cvxpy) (3.2.2)\n",
            "Requirement already satisfied: numpy>=1.15 in /usr/local/lib/python3.8/dist-packages (from cvxpy) (1.22.4)\n",
            "Requirement already satisfied: scipy>=1.1.0 in /usr/local/lib/python3.8/dist-packages (from cvxpy) (1.7.3)\n",
            "Requirement already satisfied: qdldl in /usr/local/lib/python3.8/dist-packages (from osqp>=0.4.1->cvxpy) (0.1.5.post3)\n"
          ]
        }
      ],
      "source": [
        "pip install cvxpy"
      ]
    },
    {
      "cell_type": "markdown",
      "source": [
        "PASO 2: IMPORTAR LA LIBRERIA"
      ],
      "metadata": {
        "id": "MqZQfYeFDqGI"
      }
    },
    {
      "cell_type": "code",
      "source": [
        "import cvxpy as cvx #PARA SOLUCIONAR EL PROBLEMA LINEAL\n",
        "import numpy as np  #PARA OPERACIONES MATEMATICAS"
      ],
      "metadata": {
        "id": "IBdzPB9FUQxl"
      },
      "execution_count": null,
      "outputs": []
    },
    {
      "cell_type": "markdown",
      "source": [
        "PASO 2: FORMULAR EL PROBLEMA DE FORMA MATRICIAL\n"
      ],
      "metadata": {
        "id": "0VDux-ZcUJCJ"
      }
    },
    {
      "cell_type": "markdown",
      "source": [
        "![image.png](data:image/png;base64,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)"
      ],
      "metadata": {
        "id": "DUih-HxxEWsB"
      }
    },
    {
      "cell_type": "code",
      "source": [
        "x=cvx.Variable((2,1), nonneg=True) # variables\n",
        "\n",
        "c=[3,8] #coeficiente de costos de la función objetivo\n",
        "\n",
        "#FUNCION OBJETIVO\n",
        "Z=cvx.Minimize(c@x) # multiplica el vector costos por las variables x\n",
        "\n",
        "#COEFICIENTES TECNOLOGICOS DE REESTRICIONES\n",
        "A=[ [1,-1],\n",
        "   [1,1]\n",
        "   ]\n",
        "\n",
        "#LD\n",
        "b=[[50,-20]]\n",
        "\n",
        "#MATRIZ DE RESTRICIONES\n",
        "r=[A@x >= b]\n",
        "\n",
        "#PRBLEMA DE OPTIMIZACIÓN\n",
        "P=cvx.Problem(Z,r)\n"
      ],
      "metadata": {
        "id": "AiCO-imhUhrn"
      },
      "execution_count": null,
      "outputs": []
    },
    {
      "cell_type": "markdown",
      "source": [
        "PASO3: Resolver"
      ],
      "metadata": {
        "id": "qeMhYJqCDA7a"
      }
    },
    {
      "cell_type": "code",
      "source": [
        "#SOLVER QUE VIENE POR DEFECTO\n",
        "P.solve()\n",
        "\n",
        "Z1=P.value\n",
        "print(\"estado del problema\", P.status)\n",
        "print(\"Z min\", np.round(Z1,0))\n",
        "print('\\nvalor de las variables', np.round(x.value,0))\n",
        "\n",
        "#SOLVER ECOS_BB\n",
        "P.solve(solver=cvx.ECOS_BB)\n",
        "Z2=P.value\n",
        "print(\"estado del problema\", P.status)\n",
        "print(\"Z min\", np.round(Z2,0))\n",
        "print('\\nvalor de las variables', np.round(x.value,0))\n",
        "\n",
        "#SOLVER OSQP\n",
        "P.solve(solver=cvx.OSQP)\n",
        "Z3=P.value\n",
        "print(\"estado del problema\", P.status)\n",
        "print(\"Z min\", np.round(Z3,0))\n",
        "print('\\nvalor de las variables', np.round(x.value,0))"
      ],
      "metadata": {
        "colab": {
          "base_uri": "https://localhost:8080/"
        },
        "id": "qggJMV-hDAK3",
        "outputId": "30cc75df-310b-44cc-8b7e-dfcf79896b96"
      },
      "execution_count": null,
      "outputs": [
        {
          "output_type": "stream",
          "name": "stdout",
          "text": [
            "estado del problema optimal\n",
            "Z min 225.0\n",
            "\n",
            "valor de las variables [[35.]\n",
            " [15.]]\n",
            "estado del problema optimal\n",
            "Z min 225.0\n",
            "\n",
            "valor de las variables [[35.]\n",
            " [15.]]\n",
            "estado del problema optimal\n",
            "Z min 225.0\n",
            "\n",
            "valor de las variables [[35.]\n",
            " [15.]]\n"
          ]
        }
      ]
    },
    {
      "cell_type": "markdown",
      "source": [
        "Diferencias en la solución de del metodo ECOS _bb con el OSQP"
      ],
      "metadata": {
        "id": "NI_hSmDZE7o8"
      }
    },
    {
      "cell_type": "code",
      "source": [
        "print(\"Error de Z:\",Z2-Z3)"
      ],
      "metadata": {
        "colab": {
          "base_uri": "https://localhost:8080/"
        },
        "id": "sGA3gakaE7HE",
        "outputId": "92ddb191-36de-40f3-ea28-7b4532f680cb"
      },
      "execution_count": null,
      "outputs": [
        {
          "output_type": "stream",
          "name": "stdout",
          "text": [
            "Error de Z: -3.1839630310059874e-07\n"
          ]
        }
      ]
    },
    {
      "cell_type": "markdown",
      "source": [
        "**solución con la libreria scipy**"
      ],
      "metadata": {
        "id": "IyWBQ3sG-hpH"
      }
    },
    {
      "cell_type": "markdown",
      "source": [
        "Resuelve problema con la siguiente forma"
      ],
      "metadata": {
        "id": "s90rNJ3Q-_u3"
      }
    },
    {
      "cell_type": "markdown",
      "source": [
        "![image.png](data:image/png;base64,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)"
      ],
      "metadata": {
        "id": "BF28Uu4y-9cv"
      }
    },
    {
      "cell_type": "code",
      "source": [
        "from scipy.optimize import linprog"
      ],
      "metadata": {
        "id": "yO-X8gj5fOA8"
      },
      "execution_count": null,
      "outputs": []
    },
    {
      "cell_type": "code",
      "source": [
        "# COEFICIENTES DE COSTOS\n",
        "c=[3,8]\n",
        "\n",
        "#COEF- TECNOLOGICOS\n",
        "A=[ [-1,-1],\n",
        "   [1,-1]  \n",
        "]\n",
        "\n",
        "#LD\n",
        "b=[[-50,20]]\n",
        "\n",
        "\n",
        "#SOLVER highs-ds\n",
        "res=linprog(c,A,b,bounds=(0,None), method='highs-ds')\n",
        "Z1=res.fun\n",
        "print(\"Z min\", np.round(Z1,3))\n",
        "print('\\nvalor de las variables', np.round(res.x,0))\n",
        "\n",
        "#SOLVER highs\n",
        "res=linprog(c,A,b,bounds=(0,None), method='highs')\n",
        "Z2=res.fun\n",
        "print(\"Z min\", np.round(Z2,3))\n",
        "print('\\nvalor de las variables', np.round(res.x,0))\n",
        "\n",
        "#SOLVER simplex\n",
        "res=linprog(c,A,b,bounds=(0,None), method='simplex')\n",
        "Z3=res.fun\n",
        "print(\"Z min\", np.round(Z3,3))\n",
        "print('\\nvalor de las variables', np.round(res.x,0))"
      ],
      "metadata": {
        "colab": {
          "base_uri": "https://localhost:8080/"
        },
        "id": "SZ4gfKSmfpzM",
        "outputId": "ff32321f-488f-41b0-afe2-803c097f00e1"
      },
      "execution_count": null,
      "outputs": [
        {
          "output_type": "stream",
          "name": "stdout",
          "text": [
            "Z min 225.0\n",
            "\n",
            "valor de las variables [35. 15.]\n",
            "Z min 225.0\n",
            "\n",
            "valor de las variables [35. 15.]\n",
            "Z min 225.0\n",
            "\n",
            "valor de las variables [35. 15.]\n"
          ]
        }
      ]
    },
    {
      "cell_type": "markdown",
      "source": [
        "Diferencias entre el metodo hights y simplex"
      ],
      "metadata": {
        "id": "ux2onacvFqkA"
      }
    },
    {
      "cell_type": "code",
      "source": [
        "print(\"Error de Z:\",Z1-Z3)"
      ],
      "metadata": {
        "id": "kvWclp_XiJrs",
        "colab": {
          "base_uri": "https://localhost:8080/"
        },
        "outputId": "79c37bcb-86c4-42ec-f3b4-c9d05544f04d"
      },
      "execution_count": null,
      "outputs": [
        {
          "output_type": "stream",
          "name": "stdout",
          "text": [
            "Error de Z: 0.0\n"
          ]
        }
      ]
    }
  ]
}